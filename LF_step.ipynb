{
 "cells": [
  {
   "cell_type": "markdown",
   "metadata": {},
   "source": [
    "# Advection Equation\n",
    "\n",
    "Here we solve the advection equation $u_t + a u_x=0$ using as an initial condition a step function $u(x,t=0)=1$ if $4<x<6$, 0 otherwise.\n",
    "\n",
    "We use a domain $x\\in [0,10]$ with periodic boundary conditions."
   ]
  },
  {
   "cell_type": "code",
   "execution_count": 1,
   "metadata": {},
   "outputs": [
    {
     "name": "stdout",
     "output_type": "stream",
     "text": [
      "Requirement already satisfied: imageio[ffmpeg] in c:\\users\\giuli\\anaconda3\\lib\\site-packages (2.33.1)\n",
      "Requirement already satisfied: numpy in c:\\users\\giuli\\anaconda3\\lib\\site-packages (from imageio[ffmpeg]) (1.26.4)\n",
      "Requirement already satisfied: pillow>=8.3.2 in c:\\users\\giuli\\anaconda3\\lib\\site-packages (from imageio[ffmpeg]) (10.4.0)\n",
      "Requirement already satisfied: imageio-ffmpeg in c:\\users\\giuli\\anaconda3\\lib\\site-packages (from imageio[ffmpeg]) (0.6.0)\n",
      "Requirement already satisfied: psutil in c:\\users\\giuli\\anaconda3\\lib\\site-packages (from imageio[ffmpeg]) (5.9.0)\n"
     ]
    }
   ],
   "source": [
    "import matplotlib.pyplot as plt\n",
    "import os\n",
    "import numpy as np\n",
    "\n",
    "!pip install imageio[ffmpeg]\n",
    "\n",
    "import imageio.v2 as imageio\n",
    "import glob"
   ]
  },
  {
   "cell_type": "code",
   "execution_count": 2,
   "metadata": {},
   "outputs": [],
   "source": [
    "method = 'LF'"
   ]
  },
  {
   "cell_type": "markdown",
   "metadata": {},
   "source": [
    "# J = 101"
   ]
  },
  {
   "cell_type": "code",
   "execution_count": 3,
   "metadata": {},
   "outputs": [
    {
     "name": "stdout",
     "output_type": "stream",
     "text": [
      "C:\\Users\\giuli\\OneDrive\\Desktop\\Astro\\numerical\n"
     ]
    },
    {
     "data": {
      "text/plain": [
       "['.git',\n",
       " '.ipynb_checkpoints',\n",
       " 'Advection_Equation.ipynb',\n",
       " 'Burgers',\n",
       " 'Burgers.ipynb',\n",
       " 'FTCS.ipynb',\n",
       " 'images_FTCS',\n",
       " 'images_leapfrog',\n",
       " 'images_step',\n",
       " 'l2',\n",
       " 'l2norm_FTCS.dat',\n",
       " 'l2norm_LAX.dat',\n",
       " 'l2norm_LAXWENDROFF.dat',\n",
       " 'l2norm_LEAPFROG.dat',\n",
       " 'leapfrog.ipynb',\n",
       " 'LF.ipynb',\n",
       " 'LF_step.ipynb',\n",
       " 'LW.ipynb',\n",
       " 'LW_step.ipynb',\n",
       " 'movie_FTCS_cf0.5.mp4',\n",
       " 'movie_FTCS_cf0.9.mp4',\n",
       " 'movie_leapfrog_101.mp4',\n",
       " 'movie_leapfrog_202.mp4',\n",
       " 'movie_leapfrog_cf0.5.mp4',\n",
       " 'movie_leapfrog_cf0.9.mp4',\n",
       " 'movie_outflow_LAXWENDROFF.mp4',\n",
       " 'movie_outflow_LF.mp4',\n",
       " 'movie_periodic_LAXWENDROFF_101.mp4',\n",
       " 'movie_periodic_LAXWENDROFF_cf0.5.mp4',\n",
       " 'movie_periodic_LAXWENDROFF_cf0.9.mp4',\n",
       " 'movie_periodic_LF_cf0.5.mp4',\n",
       " 'movie_periodic_LF_cf0.9.mp4',\n",
       " 'movie_stepLF_101.mp4',\n",
       " 'movie_stepLF_201.mp4',\n",
       " 'movie_stepLF_202.mp4',\n",
       " 'movie_stepLF_505.mp4',\n",
       " 'movie_step_LAXWENDROFF_101.mp4',\n",
       " 'movie_step_LAXWENDROFF_201.mp4',\n",
       " 'movie_step_LAXWENDROFF_202.mp4',\n",
       " 'movie_step_LAXWENDROFF_505.mp4',\n",
       " 'outflow_LAXWENDROFF',\n",
       " 'outflow_LF',\n",
       " 'periodic_LAXWENDROFF',\n",
       " 'periodic_LF']"
      ]
     },
     "execution_count": 3,
     "metadata": {},
     "output_type": "execute_result"
    }
   ],
   "source": [
    "##create directory where to save images\n",
    "print(os.getcwd())\n",
    "\n",
    "os.makedirs('./images_step/'+method+'/101', exist_ok=True)\n",
    "\n",
    "os.listdir('./')"
   ]
  },
  {
   "cell_type": "code",
   "execution_count": 4,
   "metadata": {},
   "outputs": [
    {
     "name": "stdout",
     "output_type": "stream",
     "text": [
      "nx= 101\n",
      "dx= 0.1\n",
      "dt= 0.05\n",
      "Number of iterations= 400.0\n"
     ]
    }
   ],
   "source": [
    "#define the speed a\n",
    "a=1.0\n",
    "\n",
    "# Define the domain\n",
    "L = 10      # Domain length\n",
    "nx = 101    # Number of grid points\n",
    "dx = L/(nx-1)   # Grid spacing\n",
    "x = np.linspace(0, L, nx)\n",
    "\n",
    "##print(x,'\\n',dx) #just a check\n",
    "\n",
    "# Define the time step and the final time\n",
    "cf = 0.5\n",
    "dt = cf*dx/a   # Time step\n",
    "t_final = 20.0\n",
    "\n",
    "print('nx=',nx)\n",
    "print('dx=',dx)\n",
    "print('dt=',dt)\n",
    "print('Number of iterations=',t_final/dt)\n",
    "\n",
    "\n",
    "# Define the initial condition\n",
    "u_initial = x*0\n",
    "u_initial[x>=4] = 1\n",
    "u_initial[x>6] = 0\n",
    "\n",
    "# Initialize the solution array\n",
    "u_current = u_initial.copy()\n",
    "\n",
    "#we create arrays where we will store the time and the l2norm\n",
    "l2norm=[]\n",
    "l2norm.append(np.sqrt(np.sum(u_current**2)/len(u_current)))\n",
    "\n",
    "time=[]\n",
    "time.append(0.0)"
   ]
  },
  {
   "cell_type": "code",
   "execution_count": 5,
   "metadata": {},
   "outputs": [],
   "source": [
    "# Initilize time and iteration counter\n",
    "t = 0.0\n",
    "i = 0\n",
    "\n",
    "#save the initial conditions\n",
    "plt.plot(x, u_current)\n",
    "plt.title('Time='+str(round(t,2)))\n",
    "plt.ylim(0,1.1)\n",
    "plt.savefig('./images_step/'+method+'/101/fig_'+str(i).zfill(5)+'.png', dpi=200)\n",
    "plt.close()\n",
    "\n",
    "#solve the advection equation\n",
    "while t < t_final:\n",
    "    # Compute the new solution using the FTCS method\n",
    "    # Note: np.roll(u_current, -1) is equivalent to u(j+1) and\n",
    "    #       np.roll(u_current,  1) is equivalent to u(j-1)\n",
    "    # using np.roll is equivalent to use periodic boundary conditions\n",
    "    u_next = 0.5*(np.roll(u_current, -1) + np.roll(u_current, 1)) - a*dt/(2*dx)*(np.roll(u_current, -1) - np.roll(u_current, 1))\n",
    "    \n",
    "    # Update the solution\n",
    "    u_current = u_next.copy()\n",
    "    \n",
    "    \n",
    "    #advance the time \n",
    "    t += dt\n",
    "    i += 1\n",
    "    \n",
    "    #compute the l2 norm and add the time to the time vector\n",
    "    l2norm.append(np.sqrt(np.sum(u_current**2)/len(u_current)))\n",
    "    time.append(t)\n",
    "    \n",
    "    #plot the current result and save in an image every 10 iterations\n",
    "    if (i%10==0):\n",
    "        plt.plot(x, u_current)\n",
    "        plt.title('Time='+str(round(t,2)))\n",
    "        plt.ylim(0,1.1)\n",
    "        plt.text(0,1,'J = 101')\n",
    "        plt.savefig('./images_step/'+method+'/101/fig_'+str(i).zfill(5)+'.png', dpi=200)\n",
    "        plt.close()\n"
   ]
  },
  {
   "cell_type": "code",
   "execution_count": 6,
   "metadata": {},
   "outputs": [
    {
     "data": {
      "image/png": "[encoded data removed]",
      "text/plain": [
       "<Figure size 640x480 with 1 Axes>"
      ]
     },
     "metadata": {},
     "output_type": "display_data"
    }
   ],
   "source": [
    "# Plot the final solution\n",
    "plt.plot(x, u_initial, label='Initial')\n",
    "plt.plot(x, u_current, label='Final')\n",
    "plt.title('Time='+str(round(t,2)))\n",
    "plt.ylim(0,1.1)\n",
    "plt.legend()\n",
    "plt.text(0,1,'J = 101')\n",
    "plt.savefig('./images_step/'+method+'/101.png', dpi=200)\n",
    "plt.show()"
   ]
  },
  {
   "cell_type": "code",
   "execution_count": 7,
   "metadata": {},
   "outputs": [
    {
     "name": "stdout",
     "output_type": "stream",
     "text": [
      "['fig_00000.png', 'fig_00010.png', 'fig_00020.png', 'fig_00030.png', 'fig_00040.png', 'fig_00050.png', 'fig_00060.png', 'fig_00070.png', 'fig_00080.png', 'fig_00090.png', 'fig_00100.png', 'fig_00110.png', 'fig_00120.png', 'fig_00130.png', 'fig_00140.png', 'fig_00150.png', 'fig_00160.png', 'fig_00170.png', 'fig_00180.png', 'fig_00190.png', 'fig_00200.png', 'fig_00210.png', 'fig_00220.png', 'fig_00230.png', 'fig_00240.png', 'fig_00250.png', 'fig_00260.png', 'fig_00270.png', 'fig_00280.png', 'fig_00290.png', 'fig_00300.png', 'fig_00310.png', 'fig_00320.png', 'fig_00330.png', 'fig_00340.png', 'fig_00350.png', 'fig_00360.png', 'fig_00370.png', 'fig_00380.png', 'fig_00390.png', 'fig_00400.png'] \n",
      "\n",
      "['fig_00000.png', 'fig_00010.png', 'fig_00020.png', 'fig_00030.png', 'fig_00040.png', 'fig_00050.png', 'fig_00060.png', 'fig_00070.png', 'fig_00080.png', 'fig_00090.png', 'fig_00100.png', 'fig_00110.png', 'fig_00120.png', 'fig_00130.png', 'fig_00140.png', 'fig_00150.png', 'fig_00160.png', 'fig_00170.png', 'fig_00180.png', 'fig_00190.png', 'fig_00200.png', 'fig_00210.png', 'fig_00220.png', 'fig_00230.png', 'fig_00240.png', 'fig_00250.png', 'fig_00260.png', 'fig_00270.png', 'fig_00280.png', 'fig_00290.png', 'fig_00300.png', 'fig_00310.png', 'fig_00320.png', 'fig_00330.png', 'fig_00340.png', 'fig_00350.png', 'fig_00360.png', 'fig_00370.png', 'fig_00380.png', 'fig_00390.png', 'fig_00400.png']\n"
     ]
    }
   ],
   "source": [
    "# set the directory where your images are stored\n",
    "directory = \"./images_step/\"+method+'/101'\n",
    "\n",
    "# get the list of image files in the directory\n",
    "files = os.listdir(directory)\n",
    "\n",
    "print(files, '\\n')\n",
    "\n",
    "# sort the files in alphanumeric order\n",
    "files=sorted(files)\n",
    "\n",
    "print(files)\n",
    "\n",
    "\n"
   ]
  },
  {
   "cell_type": "code",
   "execution_count": 8,
   "metadata": {},
   "outputs": [],
   "source": [
    "#get list of images in correct order\n",
    "images_files = sorted(glob.glob('./images_step/'+method+'/101/fig_*.png'))\n",
    "\n",
    "#use 'ffmpeg' plugin explicitly and specify codec\n",
    "output_video_path = os.path.abspath('./movie_step'+method+'_101.mp4')\n",
    "\n",
    "with imageio.get_writer(output_video_path, fps=20, codec='libx264') as writer:\n",
    "    for file in images_files:\n",
    "        image = imageio.imread(file)\n",
    "        writer.append_data(image)"
   ]
  },
  {
   "cell_type": "code",
   "execution_count": 9,
   "metadata": {},
   "outputs": [
    {
     "data": {
      "text/html": [
       "\n",
       "<div align=\"middle\">\n",
       "<video width=\"80%\" controls>\n",
       "      <source src=\"./movie_stepLF_101.mp4\" type=\"video/mp4\">\n",
       "</video></div>"
      ],
      "text/plain": [
       "<IPython.core.display.HTML object>"
      ]
     },
     "execution_count": 9,
     "metadata": {},
     "output_type": "execute_result"
    }
   ],
   "source": [
    "# don't worry about the code in this cell, it is just to let you \n",
    "# display the movies you generated above in Jupyter notebook\n",
    "from IPython.display import HTML\n",
    "\n",
    "HTML(\"\"\"\n",
    "<div align=\"middle\">\n",
    "<video width=\"80%\" controls>\n",
    "      <source src=\"./movie_stepLF_101.mp4\" type=\"video/mp4\">\n",
    "</video></div>\"\"\")"
   ]
  },
  {
   "cell_type": "code",
   "execution_count": 10,
   "metadata": {},
   "outputs": [
    {
     "data": {
      "image/png": "[encoded data removed]",
      "text/plain": [
       "<Figure size 640x480 with 1 Axes>"
      ]
     },
     "metadata": {},
     "output_type": "display_data"
    }
   ],
   "source": [
    "plt.plot(time,l2norm)\n",
    "plt.title('L2 norm: Lax-Friedrichs')\n",
    "plt.xlabel('time')\n",
    "plt.ylabel('L2 norm')\n",
    "plt.savefig('./l2/'+method+'_step.png', dpi=200)\n",
    "plt.show()"
   ]
  },
  {
   "cell_type": "markdown",
   "metadata": {},
   "source": [
    "# J = 505"
   ]
  },
  {
   "cell_type": "code",
   "execution_count": 11,
   "metadata": {},
   "outputs": [
    {
     "name": "stdout",
     "output_type": "stream",
     "text": [
      "C:\\Users\\giuli\\OneDrive\\Desktop\\Astro\\numerical\n"
     ]
    },
    {
     "data": {
      "text/plain": [
       "['.git',\n",
       " '.ipynb_checkpoints',\n",
       " 'Advection_Equation.ipynb',\n",
       " 'Burgers',\n",
       " 'Burgers.ipynb',\n",
       " 'FTCS.ipynb',\n",
       " 'images_FTCS',\n",
       " 'images_leapfrog',\n",
       " 'images_step',\n",
       " 'l2',\n",
       " 'l2norm_FTCS.dat',\n",
       " 'l2norm_LAX.dat',\n",
       " 'l2norm_LAXWENDROFF.dat',\n",
       " 'l2norm_LEAPFROG.dat',\n",
       " 'leapfrog.ipynb',\n",
       " 'LF.ipynb',\n",
       " 'LF_step.ipynb',\n",
       " 'LW.ipynb',\n",
       " 'LW_step.ipynb',\n",
       " 'movie_FTCS_cf0.5.mp4',\n",
       " 'movie_FTCS_cf0.9.mp4',\n",
       " 'movie_leapfrog_101.mp4',\n",
       " 'movie_leapfrog_202.mp4',\n",
       " 'movie_leapfrog_cf0.5.mp4',\n",
       " 'movie_leapfrog_cf0.9.mp4',\n",
       " 'movie_outflow_LAXWENDROFF.mp4',\n",
       " 'movie_outflow_LF.mp4',\n",
       " 'movie_periodic_LAXWENDROFF_101.mp4',\n",
       " 'movie_periodic_LAXWENDROFF_cf0.5.mp4',\n",
       " 'movie_periodic_LAXWENDROFF_cf0.9.mp4',\n",
       " 'movie_periodic_LF_cf0.5.mp4',\n",
       " 'movie_periodic_LF_cf0.9.mp4',\n",
       " 'movie_stepLF_101.mp4',\n",
       " 'movie_stepLF_201.mp4',\n",
       " 'movie_stepLF_202.mp4',\n",
       " 'movie_stepLF_505.mp4',\n",
       " 'movie_step_LAXWENDROFF_101.mp4',\n",
       " 'movie_step_LAXWENDROFF_201.mp4',\n",
       " 'movie_step_LAXWENDROFF_202.mp4',\n",
       " 'movie_step_LAXWENDROFF_505.mp4',\n",
       " 'outflow_LAXWENDROFF',\n",
       " 'outflow_LF',\n",
       " 'periodic_LAXWENDROFF',\n",
       " 'periodic_LF']"
      ]
     },
     "execution_count": 11,
     "metadata": {},
     "output_type": "execute_result"
    }
   ],
   "source": [
    "##create directory where to save images\n",
    "print(os.getcwd())\n",
    "\n",
    "os.makedirs('./images_step/'+method+'/505', exist_ok=True)\n",
    "\n",
    "os.listdir('./')"
   ]
  },
  {
   "cell_type": "code",
   "execution_count": 12,
   "metadata": {},
   "outputs": [
    {
     "name": "stdout",
     "output_type": "stream",
     "text": [
      "nx= 505\n",
      "dx= 0.01984126984126984\n",
      "dt= 0.00992063492063492\n",
      "Number of iterations= 2016.0\n"
     ]
    }
   ],
   "source": [
    "#define the speed a\n",
    "a=1.0\n",
    "\n",
    "# Define the domain\n",
    "L = 10      # Domain length\n",
    "nx = 505    # Number of grid points\n",
    "dx = L/(nx-1)   # Grid spacing\n",
    "x = np.linspace(0, L, nx)\n",
    "\n",
    "##print(x,'\\n',dx) #just a check\n",
    "\n",
    "# Define the time step and the final time\n",
    "cf = 0.5\n",
    "dt = cf*dx/a   # Time step\n",
    "t_final = 20.0\n",
    "\n",
    "print('nx=',nx)\n",
    "print('dx=',dx)\n",
    "print('dt=',dt)\n",
    "print('Number of iterations=',t_final/dt)\n",
    "\n",
    "\n",
    "# Define the initial condition\n",
    "u_initial = x*0\n",
    "u_initial[x>=4] = 1\n",
    "u_initial[x>6] = 0\n",
    "\n",
    "# Initialize the solution array\n",
    "u_current = u_initial.copy()\n",
    "\n",
    "#we create arrays where we will store the time and the l2norm\n",
    "l2norm=[]\n",
    "l2norm.append(np.sqrt(np.sum(u_current**2)/len(u_current)))\n",
    "\n",
    "time=[]\n",
    "time.append(0.0)"
   ]
  },
  {
   "cell_type": "code",
   "execution_count": 13,
   "metadata": {},
   "outputs": [],
   "source": [
    "# Initilize time and iteration counter\n",
    "t = 0.0\n",
    "i = 0\n",
    "\n",
    "#save the initial conditions\n",
    "plt.plot(x, u_current)\n",
    "plt.title('Time='+str(round(t,2)))\n",
    "plt.ylim(0,1.1)\n",
    "plt.savefig('./images_step/'+method+'/505/fig_'+str(i).zfill(5)+'.png', dpi=200)\n",
    "plt.close()\n",
    "\n",
    "#solve the advection equation\n",
    "while t < t_final:\n",
    "    # Compute the new solution using the FTCS method\n",
    "    # Note: np.roll(u_current, -1) is equivalent to u(j+1) and\n",
    "    #       np.roll(u_current,  1) is equivalent to u(j-1)\n",
    "    # using np.roll is equivalent to use periodic boundary conditions\n",
    "    u_next = 0.5*(np.roll(u_current, -1) + np.roll(u_current, 1)) - a*dt/(2*dx)*(np.roll(u_current, -1) - np.roll(u_current, 1))\n",
    "    \n",
    "    # Update the solution\n",
    "    u_current = u_next.copy()\n",
    "    \n",
    "    \n",
    "    #advance the time \n",
    "    t += dt\n",
    "    i += 1\n",
    "    \n",
    "    #compute the l2 norm and add the time to the time vector\n",
    "    l2norm.append(np.sqrt(np.sum(u_current**2)/len(u_current)))\n",
    "    time.append(t)\n",
    "    \n",
    "    #plot the current result and save in an image every 10 iterations\n",
    "    if (i%10==0):\n",
    "        plt.plot(x, u_current)\n",
    "        plt.title('Time='+str(round(t,2)))\n",
    "        plt.ylim(0,1.1)\n",
    "        plt.text(0,1,'J = 505')\n",
    "        plt.savefig('./images_step/'+method+'/505/fig_'+str(i).zfill(5)+'.png', dpi=200)\n",
    "        plt.close()\n"
   ]
  },
  {
   "cell_type": "code",
   "execution_count": 14,
   "metadata": {},
   "outputs": [
    {
     "data": {
      "image/png": "[encoded data removed]",
      "text/plain": [
       "<Figure size 640x480 with 1 Axes>"
      ]
     },
     "metadata": {},
     "output_type": "display_data"
    }
   ],
   "source": [
    "# Plot the final solution\n",
    "plt.plot(x, u_initial, label='Initial')\n",
    "plt.plot(x, u_current, label='Final')\n",
    "plt.title('Time='+str(round(t,2)))\n",
    "plt.ylim(0,1.1)\n",
    "plt.legend()\n",
    "plt.text(0,1,'J = 505')\n",
    "plt.savefig('./images_step/'+method+'/505.png', dpi=200)\n",
    "plt.show()"
   ]
  },
  {
   "cell_type": "code",
   "execution_count": 15,
   "metadata": {},
   "outputs": [
    {
     "name": "stdout",
     "output_type": "stream",
     "text": [
      "['fig_00000.png', 'fig_00010.png', 'fig_00020.png', 'fig_00030.png', 'fig_00040.png', 'fig_00050.png', 'fig_00060.png', 'fig_00070.png', 'fig_00080.png', 'fig_00090.png', 'fig_00100.png', 'fig_00110.png', 'fig_00120.png', 'fig_00130.png', 'fig_00140.png', 'fig_00150.png', 'fig_00160.png', 'fig_00170.png', 'fig_00180.png', 'fig_00190.png', 'fig_00200.png', 'fig_00210.png', 'fig_00220.png', 'fig_00230.png', 'fig_00240.png', 'fig_00250.png', 'fig_00260.png', 'fig_00270.png', 'fig_00280.png', 'fig_00290.png', 'fig_00300.png', 'fig_00310.png', 'fig_00320.png', 'fig_00330.png', 'fig_00340.png', 'fig_00350.png', 'fig_00360.png', 'fig_00370.png', 'fig_00380.png', 'fig_00390.png', 'fig_00400.png', 'fig_00410.png', 'fig_00420.png', 'fig_00430.png', 'fig_00440.png', 'fig_00450.png', 'fig_00460.png', 'fig_00470.png', 'fig_00480.png', 'fig_00490.png', 'fig_00500.png', 'fig_00510.png', 'fig_00520.png', 'fig_00530.png', 'fig_00540.png', 'fig_00550.png', 'fig_00560.png', 'fig_00570.png', 'fig_00580.png', 'fig_00590.png', 'fig_00600.png', 'fig_00610.png', 'fig_00620.png', 'fig_00630.png', 'fig_00640.png', 'fig_00650.png', 'fig_00660.png', 'fig_00670.png', 'fig_00680.png', 'fig_00690.png', 'fig_00700.png', 'fig_00710.png', 'fig_00720.png', 'fig_00730.png', 'fig_00740.png', 'fig_00750.png', 'fig_00760.png', 'fig_00770.png', 'fig_00780.png', 'fig_00790.png', 'fig_00800.png', 'fig_00810.png', 'fig_00820.png', 'fig_00830.png', 'fig_00840.png', 'fig_00850.png', 'fig_00860.png', 'fig_00870.png', 'fig_00880.png', 'fig_00890.png', 'fig_00900.png', 'fig_00910.png', 'fig_00920.png', 'fig_00930.png', 'fig_00940.png', 'fig_00950.png', 'fig_00960.png', 'fig_00970.png', 'fig_00980.png', 'fig_00990.png', 'fig_01000.png', 'fig_01010.png', 'fig_01020.png', 'fig_01030.png', 'fig_01040.png', 'fig_01050.png', 'fig_01060.png', 'fig_01070.png', 'fig_01080.png', 'fig_01090.png', 'fig_01100.png', 'fig_01110.png', 'fig_01120.png', 'fig_01130.png', 'fig_01140.png', 'fig_01150.png', 'fig_01160.png', 'fig_01170.png', 'fig_01180.png', 'fig_01190.png', 'fig_01200.png', 'fig_01210.png', 'fig_01220.png', 'fig_01230.png', 'fig_01240.png', 'fig_01250.png', 'fig_01260.png', 'fig_01270.png', 'fig_01280.png', 'fig_01290.png', 'fig_01300.png', 'fig_01310.png', 'fig_01320.png', 'fig_01330.png', 'fig_01340.png', 'fig_01350.png', 'fig_01360.png', 'fig_01370.png', 'fig_01380.png', 'fig_01390.png', 'fig_01400.png', 'fig_01410.png', 'fig_01420.png', 'fig_01430.png', 'fig_01440.png', 'fig_01450.png', 'fig_01460.png', 'fig_01470.png', 'fig_01480.png', 'fig_01490.png', 'fig_01500.png', 'fig_01510.png', 'fig_01520.png', 'fig_01530.png', 'fig_01540.png', 'fig_01550.png', 'fig_01560.png', 'fig_01570.png', 'fig_01580.png', 'fig_01590.png', 'fig_01600.png', 'fig_01610.png', 'fig_01620.png', 'fig_01630.png', 'fig_01640.png', 'fig_01650.png', 'fig_01660.png', 'fig_01670.png', 'fig_01680.png', 'fig_01690.png', 'fig_01700.png', 'fig_01710.png', 'fig_01720.png', 'fig_01730.png', 'fig_01740.png', 'fig_01750.png', 'fig_01760.png', 'fig_01770.png', 'fig_01780.png', 'fig_01790.png', 'fig_01800.png', 'fig_01810.png', 'fig_01820.png', 'fig_01830.png', 'fig_01840.png', 'fig_01850.png', 'fig_01860.png', 'fig_01870.png', 'fig_01880.png', 'fig_01890.png', 'fig_01900.png', 'fig_01910.png', 'fig_01920.png', 'fig_01930.png', 'fig_01940.png', 'fig_01950.png', 'fig_01960.png', 'fig_01970.png', 'fig_01980.png', 'fig_01990.png', 'fig_02000.png', 'fig_02010.png'] \n",
      "\n",
      "['fig_00000.png', 'fig_00010.png', 'fig_00020.png', 'fig_00030.png', 'fig_00040.png', 'fig_00050.png', 'fig_00060.png', 'fig_00070.png', 'fig_00080.png', 'fig_00090.png', 'fig_00100.png', 'fig_00110.png', 'fig_00120.png', 'fig_00130.png', 'fig_00140.png', 'fig_00150.png', 'fig_00160.png', 'fig_00170.png', 'fig_00180.png', 'fig_00190.png', 'fig_00200.png', 'fig_00210.png', 'fig_00220.png', 'fig_00230.png', 'fig_00240.png', 'fig_00250.png', 'fig_00260.png', 'fig_00270.png', 'fig_00280.png', 'fig_00290.png', 'fig_00300.png', 'fig_00310.png', 'fig_00320.png', 'fig_00330.png', 'fig_00340.png', 'fig_00350.png', 'fig_00360.png', 'fig_00370.png', 'fig_00380.png', 'fig_00390.png', 'fig_00400.png', 'fig_00410.png', 'fig_00420.png', 'fig_00430.png', 'fig_00440.png', 'fig_00450.png', 'fig_00460.png', 'fig_00470.png', 'fig_00480.png', 'fig_00490.png', 'fig_00500.png', 'fig_00510.png', 'fig_00520.png', 'fig_00530.png', 'fig_00540.png', 'fig_00550.png', 'fig_00560.png', 'fig_00570.png', 'fig_00580.png', 'fig_00590.png', 'fig_00600.png', 'fig_00610.png', 'fig_00620.png', 'fig_00630.png', 'fig_00640.png', 'fig_00650.png', 'fig_00660.png', 'fig_00670.png', 'fig_00680.png', 'fig_00690.png', 'fig_00700.png', 'fig_00710.png', 'fig_00720.png', 'fig_00730.png', 'fig_00740.png', 'fig_00750.png', 'fig_00760.png', 'fig_00770.png', 'fig_00780.png', 'fig_00790.png', 'fig_00800.png', 'fig_00810.png', 'fig_00820.png', 'fig_00830.png', 'fig_00840.png', 'fig_00850.png', 'fig_00860.png', 'fig_00870.png', 'fig_00880.png', 'fig_00890.png', 'fig_00900.png', 'fig_00910.png', 'fig_00920.png', 'fig_00930.png', 'fig_00940.png', 'fig_00950.png', 'fig_00960.png', 'fig_00970.png', 'fig_00980.png', 'fig_00990.png', 'fig_01000.png', 'fig_01010.png', 'fig_01020.png', 'fig_01030.png', 'fig_01040.png', 'fig_01050.png', 'fig_01060.png', 'fig_01070.png', 'fig_01080.png', 'fig_01090.png', 'fig_01100.png', 'fig_01110.png', 'fig_01120.png', 'fig_01130.png', 'fig_01140.png', 'fig_01150.png', 'fig_01160.png', 'fig_01170.png', 'fig_01180.png', 'fig_01190.png', 'fig_01200.png', 'fig_01210.png', 'fig_01220.png', 'fig_01230.png', 'fig_01240.png', 'fig_01250.png', 'fig_01260.png', 'fig_01270.png', 'fig_01280.png', 'fig_01290.png', 'fig_01300.png', 'fig_01310.png', 'fig_01320.png', 'fig_01330.png', 'fig_01340.png', 'fig_01350.png', 'fig_01360.png', 'fig_01370.png', 'fig_01380.png', 'fig_01390.png', 'fig_01400.png', 'fig_01410.png', 'fig_01420.png', 'fig_01430.png', 'fig_01440.png', 'fig_01450.png', 'fig_01460.png', 'fig_01470.png', 'fig_01480.png', 'fig_01490.png', 'fig_01500.png', 'fig_01510.png', 'fig_01520.png', 'fig_01530.png', 'fig_01540.png', 'fig_01550.png', 'fig_01560.png', 'fig_01570.png', 'fig_01580.png', 'fig_01590.png', 'fig_01600.png', 'fig_01610.png', 'fig_01620.png', 'fig_01630.png', 'fig_01640.png', 'fig_01650.png', 'fig_01660.png', 'fig_01670.png', 'fig_01680.png', 'fig_01690.png', 'fig_01700.png', 'fig_01710.png', 'fig_01720.png', 'fig_01730.png', 'fig_01740.png', 'fig_01750.png', 'fig_01760.png', 'fig_01770.png', 'fig_01780.png', 'fig_01790.png', 'fig_01800.png', 'fig_01810.png', 'fig_01820.png', 'fig_01830.png', 'fig_01840.png', 'fig_01850.png', 'fig_01860.png', 'fig_01870.png', 'fig_01880.png', 'fig_01890.png', 'fig_01900.png', 'fig_01910.png', 'fig_01920.png', 'fig_01930.png', 'fig_01940.png', 'fig_01950.png', 'fig_01960.png', 'fig_01970.png', 'fig_01980.png', 'fig_01990.png', 'fig_02000.png', 'fig_02010.png']\n"
     ]
    }
   ],
   "source": [
    "# set the directory where your images are stored\n",
    "directory = \"./images_step/\"+method+'/505'\n",
    "\n",
    "# get the list of image files in the directory\n",
    "files = os.listdir(directory)\n",
    "\n",
    "print(files, '\\n')\n",
    "\n",
    "# sort the files in alphanumeric order\n",
    "files=sorted(files)\n",
    "\n",
    "print(files)\n",
    "\n",
    "\n"
   ]
  },
  {
   "cell_type": "code",
   "execution_count": 16,
   "metadata": {},
   "outputs": [],
   "source": [
    "#get list of images in correct order\n",
    "images_files = sorted(glob.glob('./images_step/'+method+'/505/fig_*.png'))\n",
    "\n",
    "#use 'ffmpeg' plugin explicitly and specify codec\n",
    "output_video_path = os.path.abspath('./movie_step'+method+'_505.mp4')\n",
    "\n",
    "with imageio.get_writer(output_video_path, fps=20, codec='libx264') as writer:\n",
    "    for file in images_files:\n",
    "        image = imageio.imread(file)\n",
    "        writer.append_data(image)"
   ]
  },
  {
   "cell_type": "code",
   "execution_count": 17,
   "metadata": {},
   "outputs": [
    {
     "data": {
      "text/html": [
       "\n",
       "<div align=\"middle\">\n",
       "<video width=\"80%\" controls>\n",
       "      <source src=\"./movie_stepLF_505.mp4\" type=\"video/mp4\">\n",
       "</video></div>"
      ],
      "text/plain": [
       "<IPython.core.display.HTML object>"
      ]
     },
     "execution_count": 17,
     "metadata": {},
     "output_type": "execute_result"
    }
   ],
   "source": [
    "# don't worry about the code in this cell, it is just to let you \n",
    "# display the movies you generated above in Jupyter notebook\n",
    "from IPython.display import HTML\n",
    "\n",
    "HTML(\"\"\"\n",
    "<div align=\"middle\">\n",
    "<video width=\"80%\" controls>\n",
    "      <source src=\"./movie_stepLF_505.mp4\" type=\"video/mp4\">\n",
    "</video></div>\"\"\")"
   ]
  },
  {
   "cell_type": "code",
   "execution_count": null,
   "metadata": {},
   "outputs": [],
   "source": []
  }
 ],
 "metadata": {
  "kernelspec": {
   "display_name": "Python 3 (ipykernel)",
   "language": "python",
   "name": "python3"
  },
  "language_info": {
   "codemirror_mode": {
    "name": "ipython",
    "version": 3
   },
   "file_extension": ".py",
   "mimetype": "text/x-python",
   "name": "python",
   "nbconvert_exporter": "python",
   "pygments_lexer": "ipython3",
   "version": "3.12.7"
  }
 },
 "nbformat": 4,
 "nbformat_minor": 4
}
